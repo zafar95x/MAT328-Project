{
 "cells": [
  {
   "cell_type": "code",
   "execution_count": 282,
   "metadata": {},
   "outputs": [],
   "source": [
    "import pandas as pd\n",
    "import matplotlib.pyplot as plt\n",
    "import seaborn as sns\n",
    "import numpy as np\n",
    "import statsmodels.formula.api as smf\n",
    "\n",
    "import graphviz \n",
    "from sklearn.tree import plot_tree\n",
    "from sklearn.model_selection import train_test_split\n",
    "from sklearn.tree import DecisionTreeRegressor\n",
    "from sklearn.tree import export_graphviz\n",
    "from sklearn.metrics import confusion_matrix \n",
    "from sklearn.metrics import mean_squared_error \n",
    "from sklearn.preprocessing import MinMaxScaler\n",
    "from sklearn.neighbors import KNeighborsRegressor\n",
    "from sklearn.preprocessing import PolynomialFeatures\n",
    "from sklearn.linear_model import LinearRegression \n",
    "\n",
    "%matplotlib inline"
   ]
  },
  {
   "cell_type": "code",
   "execution_count": 320,
   "metadata": {},
   "outputs": [
    {
     "data": {
      "text/html": [
       "<div>\n",
       "<style scoped>\n",
       "    .dataframe tbody tr th:only-of-type {\n",
       "        vertical-align: middle;\n",
       "    }\n",
       "\n",
       "    .dataframe tbody tr th {\n",
       "        vertical-align: top;\n",
       "    }\n",
       "\n",
       "    .dataframe thead th {\n",
       "        text-align: right;\n",
       "    }\n",
       "</style>\n",
       "<table border=\"1\" class=\"dataframe\">\n",
       "  <thead>\n",
       "    <tr style=\"text-align: right;\">\n",
       "      <th></th>\n",
       "      <th>character</th>\n",
       "      <th>weight</th>\n",
       "      <th>full_hop</th>\n",
       "      <th>short_hop</th>\n",
       "      <th>air_hop</th>\n",
       "      <th>grab_range</th>\n",
       "      <th>dash_speed</th>\n",
       "      <th>run_speed</th>\n",
       "      <th>quickest_move</th>\n",
       "      <th>2nd_quickest_move</th>\n",
       "      <th>projectile(s)</th>\n",
       "      <th>series</th>\n",
       "    </tr>\n",
       "  </thead>\n",
       "  <tbody>\n",
       "    <tr>\n",
       "      <th>1</th>\n",
       "      <td>Bayonetta</td>\n",
       "      <td>81</td>\n",
       "      <td>39.0000</td>\n",
       "      <td>21.35</td>\n",
       "      <td>42.00</td>\n",
       "      <td>12.5</td>\n",
       "      <td>1.936000</td>\n",
       "      <td>1.760000</td>\n",
       "      <td>up_b</td>\n",
       "      <td>front_air</td>\n",
       "      <td>yes</td>\n",
       "      <td>Ind.</td>\n",
       "    </tr>\n",
       "    <tr>\n",
       "      <th>2</th>\n",
       "      <td>Bowser</td>\n",
       "      <td>135</td>\n",
       "      <td>33.0000</td>\n",
       "      <td>15.70</td>\n",
       "      <td>32.61</td>\n",
       "      <td>20.0</td>\n",
       "      <td>2.255000</td>\n",
       "      <td>1.971000</td>\n",
       "      <td>up_b</td>\n",
       "      <td>side_b</td>\n",
       "      <td>yes</td>\n",
       "      <td>Super Mario</td>\n",
       "    </tr>\n",
       "    <tr>\n",
       "      <th>3</th>\n",
       "      <td>Bowser Jr.</td>\n",
       "      <td>108</td>\n",
       "      <td>34.4000</td>\n",
       "      <td>16.59</td>\n",
       "      <td>34.40</td>\n",
       "      <td>18.0</td>\n",
       "      <td>1.760000</td>\n",
       "      <td>1.566000</td>\n",
       "      <td>up_smash</td>\n",
       "      <td>up_air</td>\n",
       "      <td>yes</td>\n",
       "      <td>Super Mario</td>\n",
       "    </tr>\n",
       "    <tr>\n",
       "      <th>5</th>\n",
       "      <td>Captain Falcon</td>\n",
       "      <td>104</td>\n",
       "      <td>37.3100</td>\n",
       "      <td>17.98</td>\n",
       "      <td>37.31</td>\n",
       "      <td>13.0</td>\n",
       "      <td>1.980000</td>\n",
       "      <td>2.552000</td>\n",
       "      <td>neutral_air</td>\n",
       "      <td>back_air</td>\n",
       "      <td>no</td>\n",
       "      <td>Ind.</td>\n",
       "    </tr>\n",
       "    <tr>\n",
       "      <th>6</th>\n",
       "      <td>Charizard</td>\n",
       "      <td>116</td>\n",
       "      <td>32.0000</td>\n",
       "      <td>15.43</td>\n",
       "      <td>36.00</td>\n",
       "      <td>21.4</td>\n",
       "      <td>2.288000</td>\n",
       "      <td>2.200000</td>\n",
       "      <td>up_smash</td>\n",
       "      <td>up_b</td>\n",
       "      <td>yes</td>\n",
       "      <td>Pokemon</td>\n",
       "    </tr>\n",
       "    <tr>\n",
       "      <th>7</th>\n",
       "      <td>Chrom</td>\n",
       "      <td>95</td>\n",
       "      <td>30.9700</td>\n",
       "      <td>13.00</td>\n",
       "      <td>28.00</td>\n",
       "      <td>14.2</td>\n",
       "      <td>2.200000</td>\n",
       "      <td>2.145000</td>\n",
       "      <td>up_air</td>\n",
       "      <td>neutral_air</td>\n",
       "      <td>no</td>\n",
       "      <td>Fire Emblem</td>\n",
       "    </tr>\n",
       "    <tr>\n",
       "      <th>8</th>\n",
       "      <td>Cloud</td>\n",
       "      <td>100</td>\n",
       "      <td>32.5000</td>\n",
       "      <td>17.00</td>\n",
       "      <td>32.50</td>\n",
       "      <td>12.0</td>\n",
       "      <td>2.145000</td>\n",
       "      <td>2.167000</td>\n",
       "      <td>up_b</td>\n",
       "      <td>neutral_air</td>\n",
       "      <td>yes</td>\n",
       "      <td>Final Fantasy VII</td>\n",
       "    </tr>\n",
       "    <tr>\n",
       "      <th>9</th>\n",
       "      <td>Corrin</td>\n",
       "      <td>98</td>\n",
       "      <td>33.0000</td>\n",
       "      <td>16.00</td>\n",
       "      <td>31.00</td>\n",
       "      <td>11.8</td>\n",
       "      <td>1.892000</td>\n",
       "      <td>1.595000</td>\n",
       "      <td>neutral_air</td>\n",
       "      <td>up_air</td>\n",
       "      <td>yes</td>\n",
       "      <td>Fire Emblem</td>\n",
       "    </tr>\n",
       "    <tr>\n",
       "      <th>10</th>\n",
       "      <td>Daisy</td>\n",
       "      <td>89</td>\n",
       "      <td>30.0300</td>\n",
       "      <td>14.50</td>\n",
       "      <td>30.03</td>\n",
       "      <td>12.0</td>\n",
       "      <td>1.826000</td>\n",
       "      <td>1.595000</td>\n",
       "      <td>up_b</td>\n",
       "      <td>neutral_air</td>\n",
       "      <td>yes</td>\n",
       "      <td>Super Mario</td>\n",
       "    </tr>\n",
       "    <tr>\n",
       "      <th>11</th>\n",
       "      <td>Dark Pit</td>\n",
       "      <td>96</td>\n",
       "      <td>31.0000</td>\n",
       "      <td>14.96</td>\n",
       "      <td>31.00</td>\n",
       "      <td>13.0</td>\n",
       "      <td>2.090000</td>\n",
       "      <td>1.828000</td>\n",
       "      <td>up_smash</td>\n",
       "      <td>neutral_air</td>\n",
       "      <td>yes</td>\n",
       "      <td>Kid Icarus</td>\n",
       "    </tr>\n",
       "    <tr>\n",
       "      <th>12</th>\n",
       "      <td>Dark Samus</td>\n",
       "      <td>108</td>\n",
       "      <td>37.0000</td>\n",
       "      <td>18.00</td>\n",
       "      <td>37.00</td>\n",
       "      <td>42.2</td>\n",
       "      <td>1.870000</td>\n",
       "      <td>1.654000</td>\n",
       "      <td>up_b</td>\n",
       "      <td>up_air</td>\n",
       "      <td>yes</td>\n",
       "      <td>Metroid</td>\n",
       "    </tr>\n",
       "    <tr>\n",
       "      <th>13</th>\n",
       "      <td>Diddy Kong</td>\n",
       "      <td>90</td>\n",
       "      <td>41.2100</td>\n",
       "      <td>19.90</td>\n",
       "      <td>41.21</td>\n",
       "      <td>11.5</td>\n",
       "      <td>2.090000</td>\n",
       "      <td>2.006000</td>\n",
       "      <td>up_smash</td>\n",
       "      <td>back_air</td>\n",
       "      <td>yes</td>\n",
       "      <td>Donkey Kong</td>\n",
       "    </tr>\n",
       "    <tr>\n",
       "      <th>14</th>\n",
       "      <td>Donkey Kong</td>\n",
       "      <td>127</td>\n",
       "      <td>34.0000</td>\n",
       "      <td>17.30</td>\n",
       "      <td>35.50</td>\n",
       "      <td>19.5</td>\n",
       "      <td>2.090000</td>\n",
       "      <td>1.873000</td>\n",
       "      <td>up_b</td>\n",
       "      <td>up_air</td>\n",
       "      <td>no</td>\n",
       "      <td>Donkey Kong</td>\n",
       "    </tr>\n",
       "    <tr>\n",
       "      <th>15</th>\n",
       "      <td>Dr. Mario</td>\n",
       "      <td>98</td>\n",
       "      <td>30.8805</td>\n",
       "      <td>17.54</td>\n",
       "      <td>36.33</td>\n",
       "      <td>12.0</td>\n",
       "      <td>1.537571</td>\n",
       "      <td>1.397792</td>\n",
       "      <td>up_b</td>\n",
       "      <td>neutral_air</td>\n",
       "      <td>yes</td>\n",
       "      <td>Super Mario</td>\n",
       "    </tr>\n",
       "    <tr>\n",
       "      <th>16</th>\n",
       "      <td>Duck Hunt</td>\n",
       "      <td>86</td>\n",
       "      <td>34.0000</td>\n",
       "      <td>16.48</td>\n",
       "      <td>33.80</td>\n",
       "      <td>14.5</td>\n",
       "      <td>1.760000</td>\n",
       "      <td>1.793000</td>\n",
       "      <td>neutral_air</td>\n",
       "      <td>front_air</td>\n",
       "      <td>yes</td>\n",
       "      <td>Ind.</td>\n",
       "    </tr>\n",
       "    <tr>\n",
       "      <th>17</th>\n",
       "      <td>Falco</td>\n",
       "      <td>82</td>\n",
       "      <td>50.5100</td>\n",
       "      <td>17.34</td>\n",
       "      <td>50.51</td>\n",
       "      <td>12.0</td>\n",
       "      <td>2.035000</td>\n",
       "      <td>1.619000</td>\n",
       "      <td>neutral_air</td>\n",
       "      <td>up_smash</td>\n",
       "      <td>yes</td>\n",
       "      <td>Star Fox</td>\n",
       "    </tr>\n",
       "    <tr>\n",
       "      <th>18</th>\n",
       "      <td>Fox</td>\n",
       "      <td>77</td>\n",
       "      <td>35.0000</td>\n",
       "      <td>16.40</td>\n",
       "      <td>37.00</td>\n",
       "      <td>11.0</td>\n",
       "      <td>2.090000</td>\n",
       "      <td>2.402000</td>\n",
       "      <td>down_b</td>\n",
       "      <td>neutral_air</td>\n",
       "      <td>yes</td>\n",
       "      <td>Star Fox</td>\n",
       "    </tr>\n",
       "    <tr>\n",
       "      <th>19</th>\n",
       "      <td>Ganondorf</td>\n",
       "      <td>118</td>\n",
       "      <td>25.4900</td>\n",
       "      <td>12.24</td>\n",
       "      <td>26.00</td>\n",
       "      <td>14.0</td>\n",
       "      <td>1.870000</td>\n",
       "      <td>1.340000</td>\n",
       "      <td>neutral_air</td>\n",
       "      <td>up_air</td>\n",
       "      <td>no</td>\n",
       "      <td>Zelda</td>\n",
       "    </tr>\n",
       "    <tr>\n",
       "      <th>20</th>\n",
       "      <td>Greninja</td>\n",
       "      <td>88</td>\n",
       "      <td>46.0000</td>\n",
       "      <td>22.11</td>\n",
       "      <td>46.00</td>\n",
       "      <td>18.5</td>\n",
       "      <td>2.178000</td>\n",
       "      <td>2.288000</td>\n",
       "      <td>back_air</td>\n",
       "      <td>up_air</td>\n",
       "      <td>yes</td>\n",
       "      <td>Pokemon</td>\n",
       "    </tr>\n",
       "    <tr>\n",
       "      <th>22</th>\n",
       "      <td>Ice Climbers</td>\n",
       "      <td>92</td>\n",
       "      <td>34.6900</td>\n",
       "      <td>16.75</td>\n",
       "      <td>34.69</td>\n",
       "      <td>10.0</td>\n",
       "      <td>1.680000</td>\n",
       "      <td>1.530000</td>\n",
       "      <td>neutral_air</td>\n",
       "      <td>up_air</td>\n",
       "      <td>yes</td>\n",
       "      <td>Ind.</td>\n",
       "    </tr>\n",
       "    <tr>\n",
       "      <th>23</th>\n",
       "      <td>Ike</td>\n",
       "      <td>107</td>\n",
       "      <td>29.9000</td>\n",
       "      <td>16.00</td>\n",
       "      <td>31.00</td>\n",
       "      <td>11.5</td>\n",
       "      <td>1.815000</td>\n",
       "      <td>1.507000</td>\n",
       "      <td>back_air</td>\n",
       "      <td>neutral_air</td>\n",
       "      <td>no</td>\n",
       "      <td>Fire Emblem</td>\n",
       "    </tr>\n",
       "    <tr>\n",
       "      <th>24</th>\n",
       "      <td>Incineroar</td>\n",
       "      <td>116</td>\n",
       "      <td>31.6000</td>\n",
       "      <td>14.40</td>\n",
       "      <td>32.80</td>\n",
       "      <td>16.0</td>\n",
       "      <td>1.716000</td>\n",
       "      <td>1.180000</td>\n",
       "      <td>neutral_air</td>\n",
       "      <td>back_air</td>\n",
       "      <td>no</td>\n",
       "      <td>Pokemon</td>\n",
       "    </tr>\n",
       "    <tr>\n",
       "      <th>25</th>\n",
       "      <td>Inkling</td>\n",
       "      <td>94</td>\n",
       "      <td>33.0000</td>\n",
       "      <td>17.54</td>\n",
       "      <td>36.33</td>\n",
       "      <td>12.0</td>\n",
       "      <td>2.118000</td>\n",
       "      <td>1.925000</td>\n",
       "      <td>neutral_air</td>\n",
       "      <td>back_air</td>\n",
       "      <td>yes</td>\n",
       "      <td>Ind.</td>\n",
       "    </tr>\n",
       "    <tr>\n",
       "      <th>26</th>\n",
       "      <td>Isabelle</td>\n",
       "      <td>88</td>\n",
       "      <td>32.5000</td>\n",
       "      <td>15.69</td>\n",
       "      <td>32.50</td>\n",
       "      <td>19.0</td>\n",
       "      <td>1.815000</td>\n",
       "      <td>1.480000</td>\n",
       "      <td>neutral_air</td>\n",
       "      <td>up_air</td>\n",
       "      <td>no</td>\n",
       "      <td>Animal Crossing</td>\n",
       "    </tr>\n",
       "    <tr>\n",
       "      <th>27</th>\n",
       "      <td>Ivysaur</td>\n",
       "      <td>96</td>\n",
       "      <td>32.2500</td>\n",
       "      <td>15.58</td>\n",
       "      <td>32.25</td>\n",
       "      <td>23.0</td>\n",
       "      <td>1.903000</td>\n",
       "      <td>1.595000</td>\n",
       "      <td>neutral_air</td>\n",
       "      <td>down_air</td>\n",
       "      <td>yes</td>\n",
       "      <td>Pokemon</td>\n",
       "    </tr>\n",
       "    <tr>\n",
       "      <th>28</th>\n",
       "      <td>Jigglypuff</td>\n",
       "      <td>68</td>\n",
       "      <td>19.7900</td>\n",
       "      <td>11.26</td>\n",
       "      <td>19.79</td>\n",
       "      <td>12.0</td>\n",
       "      <td>1.650000</td>\n",
       "      <td>1.271000</td>\n",
       "      <td>down_b</td>\n",
       "      <td>neutral_air</td>\n",
       "      <td>no</td>\n",
       "      <td>Pokemon</td>\n",
       "    </tr>\n",
       "    <tr>\n",
       "      <th>30</th>\n",
       "      <td>Ken</td>\n",
       "      <td>103</td>\n",
       "      <td>26.0000</td>\n",
       "      <td>15.00</td>\n",
       "      <td>29.50</td>\n",
       "      <td>11.6</td>\n",
       "      <td>1.936000</td>\n",
       "      <td>1.760000</td>\n",
       "      <td>up_b</td>\n",
       "      <td>up_air</td>\n",
       "      <td>yes</td>\n",
       "      <td>Street Fighter</td>\n",
       "    </tr>\n",
       "    <tr>\n",
       "      <th>31</th>\n",
       "      <td>King Dedede</td>\n",
       "      <td>127</td>\n",
       "      <td>32.8500</td>\n",
       "      <td>16.02</td>\n",
       "      <td>32.85</td>\n",
       "      <td>17.0</td>\n",
       "      <td>1.815000</td>\n",
       "      <td>1.496000</td>\n",
       "      <td>neutral_air</td>\n",
       "      <td>up_air</td>\n",
       "      <td>yes</td>\n",
       "      <td>Kirby</td>\n",
       "    </tr>\n",
       "    <tr>\n",
       "      <th>32</th>\n",
       "      <td>King K. Rool</td>\n",
       "      <td>133</td>\n",
       "      <td>33.0000</td>\n",
       "      <td>13.50</td>\n",
       "      <td>32.61</td>\n",
       "      <td>20.0</td>\n",
       "      <td>1.936000</td>\n",
       "      <td>1.485000</td>\n",
       "      <td>up_smash</td>\n",
       "      <td>neutral_air</td>\n",
       "      <td>yes</td>\n",
       "      <td>Donkey Kong</td>\n",
       "    </tr>\n",
       "    <tr>\n",
       "      <th>33</th>\n",
       "      <td>Kirby</td>\n",
       "      <td>79</td>\n",
       "      <td>25.3700</td>\n",
       "      <td>12.24</td>\n",
       "      <td>22.00</td>\n",
       "      <td>12.5</td>\n",
       "      <td>1.900000</td>\n",
       "      <td>1.727000</td>\n",
       "      <td>back_air</td>\n",
       "      <td>up_smash</td>\n",
       "      <td>yes</td>\n",
       "      <td>Kirby</td>\n",
       "    </tr>\n",
       "    <tr>\n",
       "      <th>34</th>\n",
       "      <td>Link</td>\n",
       "      <td>104</td>\n",
       "      <td>27.8000</td>\n",
       "      <td>13.38</td>\n",
       "      <td>29.00</td>\n",
       "      <td>11.0</td>\n",
       "      <td>1.980000</td>\n",
       "      <td>1.534000</td>\n",
       "      <td>up_b</td>\n",
       "      <td>back_air</td>\n",
       "      <td>yes</td>\n",
       "      <td>Zelda</td>\n",
       "    </tr>\n",
       "    <tr>\n",
       "      <th>35</th>\n",
       "      <td>Little Mac</td>\n",
       "      <td>87</td>\n",
       "      <td>26.0000</td>\n",
       "      <td>12.53</td>\n",
       "      <td>26.00</td>\n",
       "      <td>12.9</td>\n",
       "      <td>2.365000</td>\n",
       "      <td>2.464000</td>\n",
       "      <td>up_b</td>\n",
       "      <td>neutral_air</td>\n",
       "      <td>no</td>\n",
       "      <td>Ind.</td>\n",
       "    </tr>\n",
       "    <tr>\n",
       "      <th>36</th>\n",
       "      <td>Lucario</td>\n",
       "      <td>92</td>\n",
       "      <td>37.6200</td>\n",
       "      <td>18.19</td>\n",
       "      <td>37.62</td>\n",
       "      <td>13.5</td>\n",
       "      <td>2.255000</td>\n",
       "      <td>1.705000</td>\n",
       "      <td>down_air</td>\n",
       "      <td>front_air</td>\n",
       "      <td>yes</td>\n",
       "      <td>Pokemon</td>\n",
       "    </tr>\n",
       "    <tr>\n",
       "      <th>37</th>\n",
       "      <td>Lucas</td>\n",
       "      <td>94</td>\n",
       "      <td>29.4100</td>\n",
       "      <td>13.00</td>\n",
       "      <td>44.13</td>\n",
       "      <td>22.9</td>\n",
       "      <td>1.815000</td>\n",
       "      <td>1.650000</td>\n",
       "      <td>neutral_air</td>\n",
       "      <td>front_air</td>\n",
       "      <td>yes</td>\n",
       "      <td>Earth Bound</td>\n",
       "    </tr>\n",
       "    <tr>\n",
       "      <th>38</th>\n",
       "      <td>Lucina</td>\n",
       "      <td>90</td>\n",
       "      <td>33.6600</td>\n",
       "      <td>16.26</td>\n",
       "      <td>33.66</td>\n",
       "      <td>14.5</td>\n",
       "      <td>2.255000</td>\n",
       "      <td>1.964000</td>\n",
       "      <td>up_b</td>\n",
       "      <td>up_air</td>\n",
       "      <td>no</td>\n",
       "      <td>Fire Emblem</td>\n",
       "    </tr>\n",
       "    <tr>\n",
       "      <th>39</th>\n",
       "      <td>Luigi</td>\n",
       "      <td>97</td>\n",
       "      <td>44.0000</td>\n",
       "      <td>19.98</td>\n",
       "      <td>41.31</td>\n",
       "      <td>29.8</td>\n",
       "      <td>1.815000</td>\n",
       "      <td>1.650000</td>\n",
       "      <td>neutral_air</td>\n",
       "      <td>up_air</td>\n",
       "      <td>yes</td>\n",
       "      <td>Super Mario</td>\n",
       "    </tr>\n",
       "    <tr>\n",
       "      <th>40</th>\n",
       "      <td>Mario</td>\n",
       "      <td>98</td>\n",
       "      <td>36.3300</td>\n",
       "      <td>17.54</td>\n",
       "      <td>36.33</td>\n",
       "      <td>12.0</td>\n",
       "      <td>1.936000</td>\n",
       "      <td>1.760000</td>\n",
       "      <td>up_b</td>\n",
       "      <td>neutral_air</td>\n",
       "      <td>yes</td>\n",
       "      <td>Super Mario</td>\n",
       "    </tr>\n",
       "    <tr>\n",
       "      <th>41</th>\n",
       "      <td>Marth</td>\n",
       "      <td>90</td>\n",
       "      <td>33.6600</td>\n",
       "      <td>16.26</td>\n",
       "      <td>33.66</td>\n",
       "      <td>14.5</td>\n",
       "      <td>2.255000</td>\n",
       "      <td>1.964000</td>\n",
       "      <td>up_b</td>\n",
       "      <td>up_air</td>\n",
       "      <td>no</td>\n",
       "      <td>Fire Emblem</td>\n",
       "    </tr>\n",
       "    <tr>\n",
       "      <th>42</th>\n",
       "      <td>Mega Man</td>\n",
       "      <td>102</td>\n",
       "      <td>32.8000</td>\n",
       "      <td>11.49</td>\n",
       "      <td>32.80</td>\n",
       "      <td>12.5</td>\n",
       "      <td>1.958000</td>\n",
       "      <td>1.602000</td>\n",
       "      <td>back_air</td>\n",
       "      <td>up_smash</td>\n",
       "      <td>yes</td>\n",
       "      <td>Ind.</td>\n",
       "    </tr>\n",
       "    <tr>\n",
       "      <th>43</th>\n",
       "      <td>Meta Knight</td>\n",
       "      <td>80</td>\n",
       "      <td>32.0000</td>\n",
       "      <td>13.92</td>\n",
       "      <td>28.93</td>\n",
       "      <td>11.5</td>\n",
       "      <td>2.211000</td>\n",
       "      <td>2.090000</td>\n",
       "      <td>down_air</td>\n",
       "      <td>up_smash</td>\n",
       "      <td>no</td>\n",
       "      <td>Kirby</td>\n",
       "    </tr>\n",
       "    <tr>\n",
       "      <th>44</th>\n",
       "      <td>Mewtwo</td>\n",
       "      <td>79</td>\n",
       "      <td>31.1100</td>\n",
       "      <td>17.50</td>\n",
       "      <td>57.35</td>\n",
       "      <td>14.3</td>\n",
       "      <td>2.255000</td>\n",
       "      <td>2.255000</td>\n",
       "      <td>up_smash</td>\n",
       "      <td>neutral_air</td>\n",
       "      <td>yes</td>\n",
       "      <td>Pokemon</td>\n",
       "    </tr>\n",
       "    <tr>\n",
       "      <th>49</th>\n",
       "      <td>Mr. Game &amp; Watch</td>\n",
       "      <td>75</td>\n",
       "      <td>27.5100</td>\n",
       "      <td>13.26</td>\n",
       "      <td>27.51</td>\n",
       "      <td>12.5</td>\n",
       "      <td>1.980000</td>\n",
       "      <td>1.679000</td>\n",
       "      <td>up_b</td>\n",
       "      <td>down_b</td>\n",
       "      <td>yes</td>\n",
       "      <td>Ind.</td>\n",
       "    </tr>\n",
       "    <tr>\n",
       "      <th>51</th>\n",
       "      <td>Ness</td>\n",
       "      <td>94</td>\n",
       "      <td>34.4800</td>\n",
       "      <td>16.65</td>\n",
       "      <td>45.65</td>\n",
       "      <td>12.0</td>\n",
       "      <td>1.826000</td>\n",
       "      <td>1.609000</td>\n",
       "      <td>neutral_air</td>\n",
       "      <td>up_smash</td>\n",
       "      <td>yes</td>\n",
       "      <td>Earth Bound</td>\n",
       "    </tr>\n",
       "    <tr>\n",
       "      <th>52</th>\n",
       "      <td>Olimar</td>\n",
       "      <td>79</td>\n",
       "      <td>33.5000</td>\n",
       "      <td>16.19</td>\n",
       "      <td>33.50</td>\n",
       "      <td>23.6</td>\n",
       "      <td>1.606000</td>\n",
       "      <td>1.617000</td>\n",
       "      <td>neutral_air</td>\n",
       "      <td>up_air</td>\n",
       "      <td>yes</td>\n",
       "      <td>Ind.</td>\n",
       "    </tr>\n",
       "    <tr>\n",
       "      <th>53</th>\n",
       "      <td>Pac-Man</td>\n",
       "      <td>95</td>\n",
       "      <td>34.1000</td>\n",
       "      <td>16.48</td>\n",
       "      <td>34.10</td>\n",
       "      <td>28.2</td>\n",
       "      <td>1.870000</td>\n",
       "      <td>1.672000</td>\n",
       "      <td>up_b</td>\n",
       "      <td>neutral_air</td>\n",
       "      <td>yes</td>\n",
       "      <td>Ind.</td>\n",
       "    </tr>\n",
       "    <tr>\n",
       "      <th>54</th>\n",
       "      <td>Palutena</td>\n",
       "      <td>91</td>\n",
       "      <td>35.9000</td>\n",
       "      <td>17.30</td>\n",
       "      <td>35.90</td>\n",
       "      <td>13.0</td>\n",
       "      <td>2.035000</td>\n",
       "      <td>2.077000</td>\n",
       "      <td>neutral_air</td>\n",
       "      <td>back_air</td>\n",
       "      <td>yes</td>\n",
       "      <td>Kid Icarus</td>\n",
       "    </tr>\n",
       "    <tr>\n",
       "      <th>55</th>\n",
       "      <td>Peach</td>\n",
       "      <td>89</td>\n",
       "      <td>30.0300</td>\n",
       "      <td>14.50</td>\n",
       "      <td>30.03</td>\n",
       "      <td>12.0</td>\n",
       "      <td>1.826000</td>\n",
       "      <td>1.595000</td>\n",
       "      <td>up_b</td>\n",
       "      <td>neutral_air</td>\n",
       "      <td>yes</td>\n",
       "      <td>Super Mario</td>\n",
       "    </tr>\n",
       "    <tr>\n",
       "      <th>56</th>\n",
       "      <td>Pichu</td>\n",
       "      <td>62</td>\n",
       "      <td>36.7500</td>\n",
       "      <td>17.43</td>\n",
       "      <td>36.02</td>\n",
       "      <td>12.0</td>\n",
       "      <td>1.980000</td>\n",
       "      <td>1.892000</td>\n",
       "      <td>neutral_air</td>\n",
       "      <td>up_air</td>\n",
       "      <td>yes</td>\n",
       "      <td>Pokemon</td>\n",
       "    </tr>\n",
       "    <tr>\n",
       "      <th>57</th>\n",
       "      <td>Pikachu</td>\n",
       "      <td>79</td>\n",
       "      <td>35.5000</td>\n",
       "      <td>17.12</td>\n",
       "      <td>35.50</td>\n",
       "      <td>11.9</td>\n",
       "      <td>1.980000</td>\n",
       "      <td>2.039000</td>\n",
       "      <td>neutral_air</td>\n",
       "      <td>back_air</td>\n",
       "      <td>yes</td>\n",
       "      <td>Pokemon</td>\n",
       "    </tr>\n",
       "    <tr>\n",
       "      <th>58</th>\n",
       "      <td>Piranha Plant</td>\n",
       "      <td>112</td>\n",
       "      <td>37.4000</td>\n",
       "      <td>17.50</td>\n",
       "      <td>38.52</td>\n",
       "      <td>14.3</td>\n",
       "      <td>1.820000</td>\n",
       "      <td>1.720000</td>\n",
       "      <td>up_air</td>\n",
       "      <td>neutral_air</td>\n",
       "      <td>no</td>\n",
       "      <td>Super Mario</td>\n",
       "    </tr>\n",
       "  </tbody>\n",
       "</table>\n",
       "</div>"
      ],
      "text/plain": [
       "           character  weight  full_hop   short_hop   air_hop   grab_range  \\\n",
       "1          Bayonetta      81    39.0000       21.35     42.00        12.5   \n",
       "2             Bowser     135    33.0000       15.70     32.61        20.0   \n",
       "3         Bowser Jr.     108    34.4000       16.59     34.40        18.0   \n",
       "5     Captain Falcon     104    37.3100       17.98     37.31        13.0   \n",
       "6          Charizard     116    32.0000       15.43     36.00        21.4   \n",
       "7              Chrom      95    30.9700       13.00     28.00        14.2   \n",
       "8              Cloud     100    32.5000       17.00     32.50        12.0   \n",
       "9             Corrin      98    33.0000       16.00     31.00        11.8   \n",
       "10             Daisy      89    30.0300       14.50     30.03        12.0   \n",
       "11          Dark Pit      96    31.0000       14.96     31.00        13.0   \n",
       "12        Dark Samus     108    37.0000       18.00     37.00        42.2   \n",
       "13        Diddy Kong      90    41.2100       19.90     41.21        11.5   \n",
       "14       Donkey Kong     127    34.0000       17.30     35.50        19.5   \n",
       "15         Dr. Mario      98    30.8805       17.54     36.33        12.0   \n",
       "16         Duck Hunt      86    34.0000       16.48     33.80        14.5   \n",
       "17             Falco      82    50.5100       17.34     50.51        12.0   \n",
       "18               Fox      77    35.0000       16.40     37.00        11.0   \n",
       "19         Ganondorf     118    25.4900       12.24     26.00        14.0   \n",
       "20          Greninja      88    46.0000       22.11     46.00        18.5   \n",
       "22      Ice Climbers      92    34.6900       16.75     34.69        10.0   \n",
       "23               Ike     107    29.9000       16.00     31.00        11.5   \n",
       "24        Incineroar     116    31.6000       14.40     32.80        16.0   \n",
       "25           Inkling      94    33.0000       17.54     36.33        12.0   \n",
       "26          Isabelle      88    32.5000       15.69     32.50        19.0   \n",
       "27           Ivysaur      96    32.2500       15.58     32.25        23.0   \n",
       "28        Jigglypuff      68    19.7900       11.26     19.79        12.0   \n",
       "30               Ken     103    26.0000       15.00     29.50        11.6   \n",
       "31       King Dedede     127    32.8500       16.02     32.85        17.0   \n",
       "32      King K. Rool     133    33.0000       13.50     32.61        20.0   \n",
       "33             Kirby      79    25.3700       12.24     22.00        12.5   \n",
       "34              Link     104    27.8000       13.38     29.00        11.0   \n",
       "35        Little Mac      87    26.0000       12.53     26.00        12.9   \n",
       "36           Lucario      92    37.6200       18.19     37.62        13.5   \n",
       "37             Lucas      94    29.4100       13.00     44.13        22.9   \n",
       "38            Lucina      90    33.6600       16.26     33.66        14.5   \n",
       "39             Luigi      97    44.0000       19.98     41.31        29.8   \n",
       "40             Mario      98    36.3300       17.54     36.33        12.0   \n",
       "41             Marth      90    33.6600       16.26     33.66        14.5   \n",
       "42          Mega Man     102    32.8000       11.49     32.80        12.5   \n",
       "43       Meta Knight      80    32.0000       13.92     28.93        11.5   \n",
       "44            Mewtwo      79    31.1100       17.50     57.35        14.3   \n",
       "49  Mr. Game & Watch      75    27.5100       13.26     27.51        12.5   \n",
       "51              Ness      94    34.4800       16.65     45.65        12.0   \n",
       "52            Olimar      79    33.5000       16.19     33.50        23.6   \n",
       "53           Pac-Man      95    34.1000       16.48     34.10        28.2   \n",
       "54          Palutena      91    35.9000       17.30     35.90        13.0   \n",
       "55             Peach      89    30.0300       14.50     30.03        12.0   \n",
       "56             Pichu      62    36.7500       17.43     36.02        12.0   \n",
       "57           Pikachu      79    35.5000       17.12     35.50        11.9   \n",
       "58     Piranha Plant     112    37.4000       17.50     38.52        14.3   \n",
       "\n",
       "    dash_speed  run_speed quickest_move 2nd_quickest_move projectile(s)  \\\n",
       "1     1.936000   1.760000          up_b         front_air           yes   \n",
       "2     2.255000   1.971000          up_b           side_b            yes   \n",
       "3     1.760000   1.566000      up_smash            up_air           yes   \n",
       "5     1.980000   2.552000   neutral_air          back_air            no   \n",
       "6     2.288000   2.200000      up_smash              up_b           yes   \n",
       "7     2.200000   2.145000        up_air       neutral_air            no   \n",
       "8     2.145000   2.167000          up_b       neutral_air           yes   \n",
       "9     1.892000   1.595000   neutral_air            up_air           yes   \n",
       "10    1.826000   1.595000          up_b       neutral_air           yes   \n",
       "11    2.090000   1.828000      up_smash       neutral_air           yes   \n",
       "12    1.870000   1.654000          up_b            up_air           yes   \n",
       "13    2.090000   2.006000      up_smash          back_air           yes   \n",
       "14    2.090000   1.873000          up_b            up_air            no   \n",
       "15    1.537571   1.397792          up_b       neutral_air           yes   \n",
       "16    1.760000   1.793000   neutral_air         front_air           yes   \n",
       "17    2.035000   1.619000   neutral_air          up_smash           yes   \n",
       "18    2.090000   2.402000        down_b       neutral_air           yes   \n",
       "19    1.870000   1.340000   neutral_air            up_air            no   \n",
       "20    2.178000   2.288000      back_air            up_air           yes   \n",
       "22    1.680000   1.530000   neutral_air            up_air           yes   \n",
       "23    1.815000   1.507000      back_air       neutral_air            no   \n",
       "24    1.716000   1.180000   neutral_air          back_air            no   \n",
       "25    2.118000   1.925000   neutral_air          back_air           yes   \n",
       "26    1.815000   1.480000   neutral_air            up_air            no   \n",
       "27    1.903000   1.595000   neutral_air          down_air           yes   \n",
       "28    1.650000   1.271000        down_b       neutral_air            no   \n",
       "30    1.936000   1.760000          up_b            up_air           yes   \n",
       "31    1.815000   1.496000   neutral_air            up_air           yes   \n",
       "32    1.936000   1.485000      up_smash       neutral_air           yes   \n",
       "33    1.900000   1.727000      back_air          up_smash           yes   \n",
       "34    1.980000   1.534000          up_b          back_air           yes   \n",
       "35    2.365000   2.464000          up_b       neutral_air            no   \n",
       "36    2.255000   1.705000      down_air         front_air           yes   \n",
       "37    1.815000   1.650000   neutral_air         front_air           yes   \n",
       "38    2.255000   1.964000          up_b            up_air            no   \n",
       "39    1.815000   1.650000   neutral_air            up_air           yes   \n",
       "40    1.936000   1.760000          up_b       neutral_air           yes   \n",
       "41    2.255000   1.964000          up_b            up_air            no   \n",
       "42    1.958000   1.602000      back_air          up_smash           yes   \n",
       "43    2.211000   2.090000      down_air          up_smash            no   \n",
       "44    2.255000   2.255000      up_smash       neutral_air           yes   \n",
       "49    1.980000   1.679000          up_b            down_b           yes   \n",
       "51    1.826000   1.609000   neutral_air          up_smash           yes   \n",
       "52    1.606000   1.617000   neutral_air            up_air           yes   \n",
       "53    1.870000   1.672000          up_b       neutral_air           yes   \n",
       "54    2.035000   2.077000   neutral_air          back_air           yes   \n",
       "55    1.826000   1.595000          up_b       neutral_air           yes   \n",
       "56    1.980000   1.892000   neutral_air            up_air           yes   \n",
       "57    1.980000   2.039000   neutral_air          back_air           yes   \n",
       "58    1.820000   1.720000        up_air       neutral_air            no   \n",
       "\n",
       "               series  \n",
       "1                Ind.  \n",
       "2         Super Mario  \n",
       "3         Super Mario  \n",
       "5                Ind.  \n",
       "6             Pokemon  \n",
       "7         Fire Emblem  \n",
       "8   Final Fantasy VII  \n",
       "9         Fire Emblem  \n",
       "10        Super Mario  \n",
       "11         Kid Icarus  \n",
       "12           Metroid   \n",
       "13        Donkey Kong  \n",
       "14        Donkey Kong  \n",
       "15        Super Mario  \n",
       "16               Ind.  \n",
       "17           Star Fox  \n",
       "18           Star Fox  \n",
       "19              Zelda  \n",
       "20            Pokemon  \n",
       "22               Ind.  \n",
       "23        Fire Emblem  \n",
       "24            Pokemon  \n",
       "25               Ind.  \n",
       "26    Animal Crossing  \n",
       "27            Pokemon  \n",
       "28            Pokemon  \n",
       "30     Street Fighter  \n",
       "31              Kirby  \n",
       "32        Donkey Kong  \n",
       "33              Kirby  \n",
       "34              Zelda  \n",
       "35               Ind.  \n",
       "36            Pokemon  \n",
       "37        Earth Bound  \n",
       "38        Fire Emblem  \n",
       "39        Super Mario  \n",
       "40        Super Mario  \n",
       "41        Fire Emblem  \n",
       "42               Ind.  \n",
       "43              Kirby  \n",
       "44            Pokemon  \n",
       "49               Ind.  \n",
       "51        Earth Bound  \n",
       "52               Ind.  \n",
       "53               Ind.  \n",
       "54         Kid Icarus  \n",
       "55        Super Mario  \n",
       "56            Pokemon  \n",
       "57            Pokemon  \n",
       "58        Super Mario  "
      ]
     },
     "execution_count": 320,
     "metadata": {},
     "output_type": "execute_result"
    }
   ],
   "source": [
    "#import df\n",
    "df = pd.read_csv('SmashStats.csv')\n",
    "#delete rows with missing values \n",
    "df = df.dropna()\n",
    "#display first 5 rows\n",
    "df.head(50)"
   ]
  },
  {
   "cell_type": "code",
   "execution_count": 150,
   "metadata": {},
   "outputs": [
    {
     "data": {
      "text/plain": [
       "Text(-57.95, 0.5, 'Character Weight')"
      ]
     },
     "execution_count": 150,
     "metadata": {},
     "output_type": "execute_result"
    },
    {
     "data": {
      "image/png": "[encoded data removed]",
      "text/plain": [
       "<Figure size 360x360 with 1 Axes>"
      ]
     },
     "metadata": {
      "needs_background": "light"
     },
     "output_type": "display_data"
    }
   ],
   "source": [
    "sns.relplot(x = 'run_speed', y='series', data=df)\n",
    "plt.title('Universe Run Speeds')\n",
    "plt.xlabel('Character Run Speed')\n",
    "plt.ylabel('Character Weight')"
   ]
  },
  {
   "cell_type": "code",
   "execution_count": 151,
   "metadata": {},
   "outputs": [
    {
     "data": {
      "text/plain": [
       "Text(3.674999999999997, 0.5, 'Character Weight')"
      ]
     },
     "execution_count": 151,
     "metadata": {},
     "output_type": "execute_result"
    },
    {
     "data": {
      "image/png": "[encoded data removed]",
      "text/plain": [
       "<Figure size 360x360 with 1 Axes>"
      ]
     },
     "metadata": {
      "needs_background": "light"
     },
     "output_type": "display_data"
    }
   ],
   "source": [
    "sns.relplot(x = 'run_speed', y='weight', data=df)\n",
    "plt.title('Does weight significantly affect run speed?')\n",
    "plt.xlabel('Character Run Speed')\n",
    "plt.ylabel('Character Weight')"
   ]
  },
  {
   "cell_type": "code",
   "execution_count": 152,
   "metadata": {},
   "outputs": [
    {
     "data": {
      "text/plain": [
       "Text(0.5, 1.0, 'Character Universe')"
      ]
     },
     "execution_count": 152,
     "metadata": {},
     "output_type": "execute_result"
    },
    {
     "data": {
      "image/png": "[encoded data removed]",
      "text/plain": [
       "<Figure size 432x288 with 1 Axes>"
      ]
     },
     "metadata": {
      "needs_background": "light"
     },
     "output_type": "display_data"
    }
   ],
   "source": [
    "df['series'].value_counts().plot.bar()\n",
    "plt.xlabel(\"Series\")\n",
    "plt.ylabel(\"Character Count\")\n",
    "plt.title(\"Character Universe\")"
   ]
  },
  {
   "cell_type": "code",
   "execution_count": 153,
   "metadata": {},
   "outputs": [
    {
     "data": {
      "text/plain": [
       "Text(0.5, 1.0, 'Quickest Move')"
      ]
     },
     "execution_count": 153,
     "metadata": {},
     "output_type": "execute_result"
    },
    {
     "data": {
      "image/png": "[encoded data removed]",
      "text/plain": [
       "<Figure size 432x288 with 1 Axes>"
      ]
     },
     "metadata": {
      "needs_background": "light"
     },
     "output_type": "display_data"
    }
   ],
   "source": [
    "df['quickest_move'].value_counts().plot.bar()\n",
    "plt.xlabel(\"Move\")\n",
    "plt.ylabel(\"Character Count\")\n",
    "plt.title(\"Quickest Move\")"
   ]
  },
  {
   "cell_type": "code",
   "execution_count": 154,
   "metadata": {},
   "outputs": [
    {
     "data": {
      "text/plain": [
       "Text(0.5, 1.0, 'Grab Range Distribution')"
      ]
     },
     "execution_count": 154,
     "metadata": {},
     "output_type": "execute_result"
    },
    {
     "data": {
      "image/png": "[encoded data removed]",
      "text/plain": [
       "<Figure size 432x288 with 1 Axes>"
      ]
     },
     "metadata": {
      "needs_background": "light"
     },
     "output_type": "display_data"
    }
   ],
   "source": [
    "df[\"grab_range\"].hist(bins = 15)\n",
    "plt.xlabel(\"Grab Range\")\n",
    "plt.ylabel(\"Character Count\")\n",
    "plt.title(\"Grab Range Distribution\")"
   ]
  },
  {
   "cell_type": "code",
   "execution_count": 155,
   "metadata": {},
   "outputs": [
    {
     "data": {
      "text/plain": [
       "Text(0.5, 1.0, 'Projectile Capabilities')"
      ]
     },
     "execution_count": 155,
     "metadata": {},
     "output_type": "execute_result"
    },
    {
     "data": {
      "image/png": "[encoded data removed]",
      "text/plain": [
       "<Figure size 432x288 with 1 Axes>"
      ]
     },
     "metadata": {
      "needs_background": "light"
     },
     "output_type": "display_data"
    }
   ],
   "source": [
    "df['projectile(s)'].value_counts().plot.bar()\n",
    "plt.ylabel(\"Character Count\")\n",
    "plt.title(\"Projectile Capabilities\")"
   ]
  },
  {
   "cell_type": "code",
   "execution_count": null,
   "metadata": {},
   "outputs": [],
   "source": [
    "# Model 1 "
   ]
  },
  {
   "cell_type": "code",
   "execution_count": null,
   "metadata": {},
   "outputs": [],
   "source": [
    "# b) Prepare your data for machine learning and split your data into training and testing data."
   ]
  },
  {
   "cell_type": "code",
   "execution_count": 222,
   "metadata": {},
   "outputs": [],
   "source": [
    "df2 = pd.get_dummies(df, columns = ['quickest_move', 'projectile(s)', '2nd_quickest_move'], drop_first = True)\n",
    "del df2['character']\n",
    "del df2['series']\n",
    "x = df2.drop(columns = 'grab_range')\n",
    "y = df2['grab_range']"
   ]
  },
  {
   "cell_type": "code",
   "execution_count": 269,
   "metadata": {},
   "outputs": [],
   "source": [
    "x_train, x_test, y_train, y_test = train_test_split(x, y, test_size=0.2)"
   ]
  },
  {
   "cell_type": "code",
   "execution_count": 270,
   "metadata": {},
   "outputs": [],
   "source": [
    "# c) Fit a model to your training data."
   ]
  },
  {
   "cell_type": "code",
   "execution_count": 321,
   "metadata": {},
   "outputs": [
    {
     "data": {
      "text/plain": [
       "DecisionTreeRegressor(max_depth=3)"
      ]
     },
     "execution_count": 321,
     "metadata": {},
     "output_type": "execute_result"
    }
   ],
   "source": [
    "tree3 = DecisionTreeRegressor(max_depth = 3) \n",
    "tree3.fit(x_train, y_train)"
   ]
  },
  {
   "cell_type": "code",
   "execution_count": 322,
   "metadata": {},
   "outputs": [],
   "source": [
    "# d) Evaluate the fit of your model using your testing and training data.  You should use the appropriate methods for your model."
   ]
  },
  {
   "cell_type": "code",
   "execution_count": 323,
   "metadata": {},
   "outputs": [
    {
     "data": {
      "text/plain": [
       "10.340935512510088"
      ]
     },
     "execution_count": 323,
     "metadata": {},
     "output_type": "execute_result"
    }
   ],
   "source": [
    "train_preds3 = tree3.predict(x_train)\n",
    "mean_squared_error(train_preds3,y_train)"
   ]
  },
  {
   "cell_type": "code",
   "execution_count": 324,
   "metadata": {},
   "outputs": [
    {
     "data": {
      "text/plain": [
       "58.041580906424784"
      ]
     },
     "execution_count": 324,
     "metadata": {},
     "output_type": "execute_result"
    }
   ],
   "source": [
    "test_preds3 = tree3.predict(x_test)\n",
    "mean_squared_error(test_preds3,y_test)"
   ]
  },
  {
   "cell_type": "code",
   "execution_count": 275,
   "metadata": {},
   "outputs": [],
   "source": [
    "# e) Repeat steps (c) and (d) with at least two different parameters for your model. "
   ]
  },
  {
   "cell_type": "code",
   "execution_count": 276,
   "metadata": {},
   "outputs": [
    {
     "data": {
      "text/plain": [
       "DecisionTreeRegressor(max_depth=5)"
      ]
     },
     "execution_count": 276,
     "metadata": {},
     "output_type": "execute_result"
    }
   ],
   "source": [
    "tree5 = DecisionTreeRegressor(max_depth = 5) \n",
    "tree5.fit(x_train, y_train)"
   ]
  },
  {
   "cell_type": "code",
   "execution_count": 277,
   "metadata": {},
   "outputs": [
    {
     "data": {
      "text/plain": [
       "2.5327415254237287"
      ]
     },
     "execution_count": 277,
     "metadata": {},
     "output_type": "execute_result"
    }
   ],
   "source": [
    "train_preds5 = tree5.predict(x_train)\n",
    "mean_squared_error(train_preds5,y_train)"
   ]
  },
  {
   "cell_type": "code",
   "execution_count": 278,
   "metadata": {},
   "outputs": [
    {
     "data": {
      "text/plain": [
       "71.15898933678501"
      ]
     },
     "execution_count": 278,
     "metadata": {},
     "output_type": "execute_result"
    }
   ],
   "source": [
    "test_preds5 = tree5.predict(x_test)\n",
    "mean_squared_error(test_preds5,y_test)"
   ]
  },
  {
   "cell_type": "code",
   "execution_count": 279,
   "metadata": {},
   "outputs": [
    {
     "data": {
      "text/plain": [
       "DecisionTreeRegressor(max_depth=7)"
      ]
     },
     "execution_count": 279,
     "metadata": {},
     "output_type": "execute_result"
    }
   ],
   "source": [
    "tree7 = DecisionTreeRegressor(max_depth = 7) \n",
    "tree7.fit(x_train, y_train)"
   ]
  },
  {
   "cell_type": "code",
   "execution_count": 280,
   "metadata": {},
   "outputs": [
    {
     "data": {
      "text/plain": [
       "0.38141343825665874"
      ]
     },
     "execution_count": 280,
     "metadata": {},
     "output_type": "execute_result"
    }
   ],
   "source": [
    "train_preds7 = tree7.predict(x_train)\n",
    "mean_squared_error(train_preds7,y_train)"
   ]
  },
  {
   "cell_type": "code",
   "execution_count": 281,
   "metadata": {},
   "outputs": [
    {
     "data": {
      "text/plain": [
       "70.27709800170068"
      ]
     },
     "execution_count": 281,
     "metadata": {},
     "output_type": "execute_result"
    }
   ],
   "source": [
    "test_preds7 = tree7.predict(x_test)\n",
    "mean_squared_error(test_preds7,y_test)"
   ]
  },
  {
   "cell_type": "code",
   "execution_count": null,
   "metadata": {},
   "outputs": [],
   "source": [
    "#model = DecisionTreeRegressor(max_depth = 3)\n",
    "#model.fit(x_train, y_train)\n",
    "#fig, axes = plt.subplots(nrows = 1, ncols = 1, figsize = (20,20), dpi =500)\n",
    "#plot_tree(model, feature_names = x.columns)"
   ]
  },
  {
   "cell_type": "code",
   "execution_count": null,
   "metadata": {},
   "outputs": [],
   "source": [
    "##############################"
   ]
  },
  {
   "cell_type": "code",
   "execution_count": null,
   "metadata": {},
   "outputs": [],
   "source": [
    "# a) Fit a different type of model from Step 8 on  to your training data."
   ]
  },
  {
   "cell_type": "code",
   "execution_count": 286,
   "metadata": {},
   "outputs": [
    {
     "data": {
      "text/plain": [
       "KNeighborsRegressor(n_neighbors=7)"
      ]
     },
     "execution_count": 286,
     "metadata": {},
     "output_type": "execute_result"
    }
   ],
   "source": [
    "knn7 = KNeighborsRegressor(n_neighbors = 7)\n",
    "knn7.fit(x_train, y_train)"
   ]
  },
  {
   "cell_type": "code",
   "execution_count": 287,
   "metadata": {},
   "outputs": [],
   "source": [
    "# d) Evaluate the fit of your 2nd model using your testing and training data.  You should use the appropriate methods for your model."
   ]
  },
  {
   "cell_type": "code",
   "execution_count": 288,
   "metadata": {},
   "outputs": [
    {
     "data": {
      "text/plain": [
       "77.59492517006804"
      ]
     },
     "execution_count": 288,
     "metadata": {},
     "output_type": "execute_result"
    }
   ],
   "source": [
    "y_test_pred7 = knn7.predict(x_test)\n",
    "mean_squared_error(y_test_pred7,y_test)"
   ]
  },
  {
   "cell_type": "code",
   "execution_count": 289,
   "metadata": {},
   "outputs": [
    {
     "data": {
      "text/plain": [
       "28.901224489795926"
      ]
     },
     "execution_count": 289,
     "metadata": {},
     "output_type": "execute_result"
    }
   ],
   "source": [
    "y_train_pred7 = knn7.predict(x_train)\n",
    "mean_squared_error(y_train_pred7,y_train)"
   ]
  },
  {
   "cell_type": "code",
   "execution_count": null,
   "metadata": {},
   "outputs": [],
   "source": [
    "# e) Repeat steps (c) and (d) with at least two different parameters for your 2nd model. "
   ]
  },
  {
   "cell_type": "code",
   "execution_count": 314,
   "metadata": {},
   "outputs": [
    {
     "data": {
      "text/plain": [
       "KNeighborsRegressor(n_neighbors=35)"
      ]
     },
     "execution_count": 314,
     "metadata": {},
     "output_type": "execute_result"
    }
   ],
   "source": [
    "knn35 = KNeighborsRegressor(n_neighbors = 35)\n",
    "knn35.fit(x_train, y_train)"
   ]
  },
  {
   "cell_type": "code",
   "execution_count": 315,
   "metadata": {},
   "outputs": [
    {
     "data": {
      "text/plain": [
       "65.97446585034012"
      ]
     },
     "execution_count": 315,
     "metadata": {},
     "output_type": "execute_result"
    }
   ],
   "source": [
    "y_test_pred35 = knn35.predict(x_test)\n",
    "mean_squared_error(y_test_pred35,y_test)"
   ]
  },
  {
   "cell_type": "code",
   "execution_count": 316,
   "metadata": {},
   "outputs": [
    {
     "data": {
      "text/plain": [
       "28.901224489795926"
      ]
     },
     "execution_count": 316,
     "metadata": {},
     "output_type": "execute_result"
    }
   ],
   "source": [
    "y_train_pred7 = knn7.predict(x_train)\n",
    "mean_squared_error(y_train_pred7,y_train)"
   ]
  },
  {
   "cell_type": "code",
   "execution_count": 317,
   "metadata": {},
   "outputs": [
    {
     "data": {
      "text/plain": [
       "KNeighborsRegressor(n_neighbors=21)"
      ]
     },
     "execution_count": 317,
     "metadata": {},
     "output_type": "execute_result"
    }
   ],
   "source": [
    "knn21 = KNeighborsRegressor(n_neighbors = 21)\n",
    "knn21.fit(x_train, y_train)"
   ]
  },
  {
   "cell_type": "code",
   "execution_count": 318,
   "metadata": {},
   "outputs": [
    {
     "data": {
      "text/plain": [
       "67.87873469387755"
      ]
     },
     "execution_count": 318,
     "metadata": {},
     "output_type": "execute_result"
    }
   ],
   "source": [
    "y_test_pred21 = knn21.predict(x_test)\n",
    "mean_squared_error(y_test_pred21,y_test)"
   ]
  },
  {
   "cell_type": "code",
   "execution_count": 319,
   "metadata": {},
   "outputs": [
    {
     "data": {
      "text/plain": [
       "36.85796533302586"
      ]
     },
     "execution_count": 319,
     "metadata": {},
     "output_type": "execute_result"
    }
   ],
   "source": [
    "y_train_pred9 = knn9.predict(x_train)\n",
    "mean_squared_error(y_train_pred9,y_train)"
   ]
  },
  {
   "cell_type": "code",
   "execution_count": null,
   "metadata": {},
   "outputs": [],
   "source": []
  }
 ],
 "metadata": {
  "kernelspec": {
   "display_name": "Python 3",
   "language": "python",
   "name": "python3"
  },
  "language_info": {
   "codemirror_mode": {
    "name": "ipython",
    "version": 3
   },
   "file_extension": ".py",
   "mimetype": "text/x-python",
   "name": "python",
   "nbconvert_exporter": "python",
   "pygments_lexer": "ipython3",
   "version": "3.8.5"
  }
 },
 "nbformat": 4,
 "nbformat_minor": 4
}
